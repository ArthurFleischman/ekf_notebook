{
 "cells": [
  {
   "cell_type": "markdown",
   "metadata": {},
   "source": [
    "# Laboratory 04\n",
    "**Localization of a robot with Extended Kalman Filter**"
   ]
  },
  {
   "cell_type": "markdown",
   "metadata": {},
   "source": [
    "---\n",
    "## Objective\n",
    "\n",
    "- Implement the equation of the EKF in a Python script\n",
    "- Run a localization simulation with the implemented script\n",
    "- Understand the influence of parameters of the EKF\n"
   ]
  },
  {
   "cell_type": "markdown",
   "metadata": {},
   "source": [
    "---\n",
    "\n",
    "## NumPy Usage\n",
    "\n",
    "NumPy is a fundamental Python library for numerical computing. It stands for Numerical Python and offers powerful tools and data structures, primarily multidimensional arrays (ndarrays), along with a collection of mathematical functions to operate on these arrays. NumPy provides efficient methods for manipulating large datasets and performing a wide range of mathematical computations, including linear algebra, Fourier analysis, statistics, random number generation, and more. Its versatility, speed, and ease of use make it a pillar in various fields such as scientific computing, data analysis and machine learning.\n",
    "\n",
    "In the following cells are reported some common operations that can be performed on array and matrices using this library."
   ]
  },
  {
   "cell_type": "markdown",
   "metadata": {},
   "source": [
    "##### Import NumPy and create a simple array\n"
   ]
  },
  {
   "cell_type": "code",
   "execution_count": 1142,
   "metadata": {},
   "outputs": [
    {
     "name": "stdout",
     "output_type": "stream",
     "text": [
      "arr: [[1 2 3 4]]\n",
      "shape: (1, 4)\n"
     ]
    }
   ],
   "source": [
    "import numpy as np\n",
    "np.set_printoptions(precision=5)\n",
    "                      \n",
    "arr = np.array([[1,2,3,4]])\n",
    "print(f\"arr: {arr}\") \n",
    "print(f\"shape: {arr.shape}\") # with the shape attribute, we can see the dimension of the array (rows, columns)"
   ]
  },
  {
   "cell_type": "markdown",
   "metadata": {},
   "source": [
    "##### Transpose a matrix or an array"
   ]
  },
  {
   "cell_type": "code",
   "execution_count": 1143,
   "metadata": {},
   "outputs": [
    {
     "name": "stdout",
     "output_type": "stream",
     "text": [
      "arrT: \n",
      "[[1]\n",
      " [2]\n",
      " [3]\n",
      " [4]],\n",
      "shape: (4, 1)\n"
     ]
    }
   ],
   "source": [
    "arrT = arr.T\n",
    "print(f\"arrT: \\n{arrT},\\nshape: {arrT.shape}\")"
   ]
  },
  {
   "cell_type": "markdown",
   "metadata": {},
   "source": [
    "##### Matrix Multiplication\n",
    "The `@` perform a matrix multiplication, so the order of the operands it is relevant. I reported here an example of multiplying $A^T A $ and $ A A^T$."
   ]
  },
  {
   "cell_type": "code",
   "execution_count": 1144,
   "metadata": {},
   "outputs": [
    {
     "name": "stdout",
     "output_type": "stream",
     "text": [
      "[[ 1  2  3  4]\n",
      " [ 2  4  6  8]\n",
      " [ 3  6  9 12]\n",
      " [ 4  8 12 16]]\n",
      "[[30]]\n"
     ]
    }
   ],
   "source": [
    "print(arrT @ arr)\n",
    "\n",
    "print(arr @ arrT)"
   ]
  },
  {
   "cell_type": "markdown",
   "metadata": {},
   "source": [
    "##### Inverse of a Matrix"
   ]
  },
  {
   "cell_type": "code",
   "execution_count": 1145,
   "metadata": {},
   "outputs": [
    {
     "name": "stdout",
     "output_type": "stream",
     "text": [
      "[[1 2]\n",
      " [3 4]]\n",
      "[[-2.   1. ]\n",
      " [ 1.5 -0.5]]\n",
      "[[1.00000e+00 0.00000e+00]\n",
      " [8.88178e-16 1.00000e+00]]\n"
     ]
    }
   ],
   "source": [
    "from numpy.linalg import inv # this operator is used to compute the inverse of a matrix\n",
    "\n",
    "square_mat = np.array([[1,2],[3,4]]) # create a 2x2 matrix\n",
    "print(square_mat)\n",
    "print(inv(square_mat)) # compute the inverse of the matrix\n",
    "print(square_mat @ inv(square_mat)) # compute the product of the matrix and its inverse (should be the identity matrix)"
   ]
  },
  {
   "cell_type": "markdown",
   "metadata": {},
   "source": [
    "##### Slicing\n",
    "\n",
    "Get an element, rows or columns from a matrix. Similar to MATLAB but remember that the indexes starts from 0."
   ]
  },
  {
   "cell_type": "code",
   "execution_count": 1146,
   "metadata": {},
   "outputs": [
    {
     "name": "stdout",
     "output_type": "stream",
     "text": [
      "2\n",
      "[1 2]\n",
      "[2 4]\n"
     ]
    }
   ],
   "source": [
    "# get element at row 0, column 1\n",
    "print(square_mat[0,1])\n",
    "\n",
    "# get row 0\n",
    "print(square_mat[0,:])\n",
    "\n",
    "# get column 1\n",
    "print(square_mat[:,1])"
   ]
  },
  {
   "cell_type": "markdown",
   "metadata": {},
   "source": [
    "---\n",
    "## SymPy Usage\n",
    "\n",
    "SymPy is a Python library used for symbolic mathematics. It aims to become a full-featured computer algebra system while keeping the code as simple as possible in order to be comprehensible and easily extensible. SymPy includes features ranging from basic symbolic arithmetic to calculus, algebra, discrete mathematics and quantum physics.\n",
    "\n",
    "We will use this library to write measurement and motion models and to evaluate easily their Jacobians."
   ]
  },
  {
   "cell_type": "code",
   "execution_count": 1147,
   "metadata": {},
   "outputs": [],
   "source": [
    "# Import the module and the most relevant functions\n",
    "import sympy\n",
    "sympy.init_printing(use_latex='mathjax')\n",
    "from sympy import symbols, Matrix, latex"
   ]
  },
  {
   "cell_type": "code",
   "execution_count": 1148,
   "metadata": {},
   "outputs": [
    {
     "data": {
      "text/latex": [
       "$\\displaystyle \\left[\\begin{matrix}\\frac{2 a}{d}\\\\b \\sin{\\left(c \\right)}\\end{matrix}\\right]$"
      ],
      "text/plain": [
       "⎡  2⋅a   ⎤\n",
       "⎢  ───   ⎥\n",
       "⎢   d    ⎥\n",
       "⎢        ⎥\n",
       "⎣b⋅sin(c)⎦"
      ]
     },
     "execution_count": 1148,
     "metadata": {},
     "output_type": "execute_result"
    }
   ],
   "source": [
    "# Create the symbolic variables\n",
    "a, b, c, d = symbols('a b c d')\n",
    "\n",
    "# Create a Matrix using the symbolic variables\n",
    "my_matrix = Matrix([[2*a/d], [b*sympy.sin(c)]])\n",
    "my_matrix"
   ]
  },
  {
   "cell_type": "code",
   "execution_count": 1149,
   "metadata": {},
   "outputs": [
    {
     "data": {
      "text/latex": [
       "$\\displaystyle \\left[\\begin{matrix}\\frac{2}{d} & 0 & 0 & - \\frac{2 a}{d^{2}}\\\\0 & \\sin{\\left(c \\right)} & b \\cos{\\left(c \\right)} & 0\\end{matrix}\\right]$"
      ],
      "text/plain": [
       "⎡2                    -2⋅a ⎤\n",
       "⎢─    0        0      ─────⎥\n",
       "⎢d                       2 ⎥\n",
       "⎢                       d  ⎥\n",
       "⎢                          ⎥\n",
       "⎣0  sin(c)  b⋅cos(c)    0  ⎦"
      ]
     },
     "execution_count": 1149,
     "metadata": {},
     "output_type": "execute_result"
    }
   ],
   "source": [
    "# Compute the Jacobian of the matrix with respect to a vector\n",
    "jac = my_matrix.jacobian(Matrix([a, b, c, d]))\n",
    "jac"
   ]
  },
  {
   "cell_type": "code",
   "execution_count": 1150,
   "metadata": {},
   "outputs": [
    {
     "data": {
      "text/plain": [
       "array([[0.5    ],\n",
       "       [0.28224]])"
      ]
     },
     "execution_count": 1150,
     "metadata": {},
     "output_type": "execute_result"
    }
   ],
   "source": [
    "# Transform the symbolic Matrix in a function that can be evaluated numerically\n",
    "eval_my_matrix = sympy.lambdify((a, b, c, d), my_matrix, 'numpy')\n",
    "eval_my_matrix(a=1, b=2, c=3, d=4) # also eval_my_matrix(1, 2, 3, 4)"
   ]
  },
  {
   "cell_type": "code",
   "execution_count": 1151,
   "metadata": {},
   "outputs": [
    {
     "data": {
      "text/plain": [
       "array([[ 0.5    ,  0.     ,  0.     , -0.125  ],\n",
       "       [ 0.     ,  0.14112, -1.97998,  0.     ]])"
      ]
     },
     "execution_count": 1151,
     "metadata": {},
     "output_type": "execute_result"
    }
   ],
   "source": [
    "# Ypu can do the same for the Jacobian\n",
    "eval_jac = sympy.lambdify((a, b, c, d), jac, 'numpy')\n",
    "eval_jac(1, 2, 3, 4)"
   ]
  },
  {
   "cell_type": "markdown",
   "metadata": {},
   "source": [
    "---\n",
    "## Velocity Motion Model\n",
    "\n",
    "Using the SymPy library implement the Velocity Motion Model that is explained in the lecture slides. For clearness the main equation of the model is reported below.\n",
    "\n",
    "$$\n",
    "\\begin{pmatrix} x' \\\\ y' \\\\ \\theta' \\end{pmatrix} = g(u_t,x_{t-1}) + \\mathcal{N}(0, R_t)= \n",
    "\\begin{pmatrix} x \\\\ y \\\\ \\theta \\end{pmatrix} + \n",
    "\\begin{pmatrix} \n",
    "- \\frac{v_t}{\\omega_t }\\sin{\\theta} + \\frac{v_t}{\\omega_t }\\sin{( \\theta + \\omega_t \\Delta t )} \\\\\n",
    "\\frac{v_t}{\\omega_t }\\cos{\\theta} - \\frac{v_t}{\\omega_t }\\cos{(\\theta + \\omega_t \\Delta t)} \\\\\n",
    "\\omega_t \\Delta t\n",
    "\\end{pmatrix} + \\mathcal{N}(0, R_t)\n",
    "$$\n",
    "\n",
    "Then, use the function provided by SymPy to derive the Jacobian matrices w.r.t the state $G_t$ and the input $V_t$ and create a function to evaluate it."
   ]
  },
  {
   "cell_type": "code",
   "execution_count": 1152,
   "metadata": {},
   "outputs": [
    {
     "data": {
      "text/latex": [
       "$\\displaystyle \\left[\\begin{matrix}- \\frac{v \\sin{\\left(\\theta \\right)}}{w} + \\frac{v \\sin{\\left(dt w + \\theta \\right)}}{w} + x\\\\\\frac{v \\cos{\\left(\\theta \\right)}}{w} - \\frac{v \\cos{\\left(dt w + \\theta \\right)}}{w} + y\\\\dt w + \\theta\\end{matrix}\\right]$"
      ],
      "text/plain": [
       "⎡  v⋅sin(θ)   v⋅sin(dt⋅w + θ)    ⎤\n",
       "⎢- ──────── + ─────────────── + x⎥\n",
       "⎢     w              w           ⎥\n",
       "⎢                                ⎥\n",
       "⎢ v⋅cos(θ)   v⋅cos(dt⋅w + θ)     ⎥\n",
       "⎢ ──────── - ─────────────── + y ⎥\n",
       "⎢    w              w            ⎥\n",
       "⎢                                ⎥\n",
       "⎣            dt⋅w + θ            ⎦"
      ]
     },
     "execution_count": 1152,
     "metadata": {},
     "output_type": "execute_result"
    }
   ],
   "source": [
    "import sympy\n",
    "from sympy import symbols, Matrix, sin, cos, sqrt, atan2\n",
    "\n",
    "x, y, theta, v, w, dt, mx, my = symbols('x y theta v w dt mx my')\n",
    "gux = Matrix([[x],[y],[theta]])+ Matrix([[(-v/w)* sin(theta)+((v/w)*(sin(theta+w*dt)))], [(v/w)*cos(theta)-(v/w*cos(theta+w*dt))],[w*dt]])\n",
    "gux"
   ]
  },
  {
   "cell_type": "code",
   "execution_count": 1153,
   "metadata": {},
   "outputs": [],
   "source": [
    "\n",
    "eval_gux = sympy.lambdify((x, y, theta, v, w, dt), gux, 'numpy')\n"
   ]
  },
  {
   "cell_type": "code",
   "execution_count": 1154,
   "metadata": {},
   "outputs": [],
   "source": [
    "\n",
    "Gt = Matrix([[1,0,v/w*(-cos(theta)+cos(theta+w*dt))],[0,1,v/w*(-sin(theta)+sin(theta+w*dt))],[0,0,1]])\n",
    "#Gt = gux.jacobian(Matrix([x, y, theta]))\n",
    "eval_Gt = sympy.lambdify((theta, v, w, dt), Gt, 'numpy')\n",
    "Vt = Matrix([\n",
    "    [(((-sin(theta))+(sin(theta+w*dt)))/(w)), (((v*(sin(theta)-sin(theta+w*dt)))/((w**2)))+((v*cos(theta+w*dt)*dt))/w)],\n",
    "    [((cos(theta)-cos(theta+w*dt))/w),(((-v*(cos(theta)-cos(theta+w*dt))))/((w**2))+ (v+sin(theta+w*dt)*dt)/w)],\n",
    "    [0, dt]])\n",
    "eval_Vt = sympy.lambdify((theta, v, w, dt), Vt, 'numpy')\n",
    "\n"
   ]
  },
  {
   "cell_type": "markdown",
   "metadata": {},
   "source": [
    "---\n",
    "## Landmarks Measurement Model\n",
    "\n",
    "As a measurement model we will use **landmarks** described by distance and bearing w.r.t. the robot current pose.\n",
    "\n",
    "$$\n",
    "h(x, m) = \n",
    "\\left(\n",
    "    \\begin{matrix}\n",
    "    \\sqrt{\\left(m_x - x\\right)^{2} + \\left(m_y - y\\right)^{2}}\\\\\n",
    "    \\operatorname{atan2}{\\left(m_y - y,m_x - x \\right)} - \\theta\n",
    "    \\end{matrix}\n",
    "\\right)\n",
    "$$\n",
    "\n",
    "Write in the following cell the code to compute the measurement and its Jacobian w.r.t. to the state. Remember to convert the symbolic functions to Python functions that can be evaluated as done in the previous step."
   ]
  },
  {
   "cell_type": "code",
   "execution_count": 1155,
   "metadata": {},
   "outputs": [
    {
     "data": {
      "text/latex": [
       "$\\displaystyle \\left[\\begin{matrix}\\sqrt{\\left(mx - x\\right)^{2} + \\left(my - y\\right)^{2}}\\\\- \\theta + \\operatorname{atan}_{2}{\\left(my - y,mx - x \\right)}\\end{matrix}\\right]$"
      ],
      "text/plain": [
       "⎡   _______________________⎤\n",
       "⎢  ╱         2           2 ⎥\n",
       "⎢╲╱  (mx - x)  + (my - y)  ⎥\n",
       "⎢                          ⎥\n",
       "⎣-θ + atan2(my - y, mx - x)⎦"
      ]
     },
     "execution_count": 1155,
     "metadata": {},
     "output_type": "execute_result"
    }
   ],
   "source": [
    "\n",
    "hx = Matrix([[sqrt((mx-x)**2 +(my-y)**2)], [(atan2(my-y, mx-x))- theta]])\n",
    "eval_hx = sympy.lambdify((mx, x, my, y, theta), hx, 'numpy')\n",
    "hx\n"
   ]
  },
  {
   "cell_type": "code",
   "execution_count": 1156,
   "metadata": {},
   "outputs": [
    {
     "data": {
      "text/latex": [
       "$\\displaystyle \\left[\\begin{matrix}\\frac{- mx + x}{\\sqrt{\\left(mx - x\\right)^{2} + \\left(my - y\\right)^{2}}} & \\frac{- my + y}{\\sqrt{\\left(mx - x\\right)^{2} + \\left(my - y\\right)^{2}}} & 0\\\\\\frac{my - y}{\\sqrt{\\left(mx - x\\right)^{2} + \\left(my - y\\right)^{2}}} & \\frac{- mx + x}{\\sqrt{\\left(mx - x\\right)^{2} + \\left(my - y\\right)^{2}}} & -1\\end{matrix}\\right]$"
      ],
      "text/plain": [
       "⎡         -mx + x                     -my + y              ⎤\n",
       "⎢──────────────────────────  ──────────────────────────  0 ⎥\n",
       "⎢   _______________________     _______________________    ⎥\n",
       "⎢  ╱         2           2     ╱         2           2     ⎥\n",
       "⎢╲╱  (mx - x)  + (my - y)    ╲╱  (mx - x)  + (my - y)      ⎥\n",
       "⎢                                                          ⎥\n",
       "⎢          my - y                     -mx + x              ⎥\n",
       "⎢──────────────────────────  ──────────────────────────  -1⎥\n",
       "⎢   _______________________     _______________________    ⎥\n",
       "⎢  ╱         2           2     ╱         2           2     ⎥\n",
       "⎣╲╱  (mx - x)  + (my - y)    ╲╱  (mx - x)  + (my - y)      ⎦"
      ]
     },
     "execution_count": 1156,
     "metadata": {},
     "output_type": "execute_result"
    }
   ],
   "source": [
    "#Ht = hx.jacobian(Matrix([x, y, theta]))\n",
    "Ht = Matrix([[(x-mx)/(sqrt((mx-x)**2+(my-y)**2)), (y-my)/(sqrt((mx-x)**2+(my-y)**2)), 0],[-(y-my)/(sqrt((mx-x)**2+(my-y)**2)), (x-mx)/(sqrt((mx-x)**2+(my-y)**2)), -1]])\n",
    "eval_Ht = sympy.lambdify((mx, x, my, y), Ht, 'numpy')\n",
    "Ht\n"
   ]
  },
  {
   "cell_type": "markdown",
   "metadata": {},
   "source": [
    "---\n",
    "## EKF Implementation\n",
    "\n",
    "Complete the `RobotEKF` Class with the filter equations where you find the symbol `...`\n"
   ]
  },
  {
   "cell_type": "markdown",
   "metadata": {},
   "source": [
    "#### Filter Initialization\n",
    "\n",
    "In the function `__init__` the filter is initialized given the dimensions of the state `dim_x`, of the input `dim_u` and of the measurement `dim_z`.\n",
    "\n",
    "You must pass as arguments:\n",
    "- `dim_x`: the dimension of the state vector\n",
    "- `dim_z`: the dimension of the measurement vector\n",
    "- `dim_u`: the dimension of the input vector\n",
    "- `eval_gux`, `eval_Gt`, `eval_Vt`: the functions to evaluate the motion model and it Jacobians\n",
    "- `eval_hx`, `eval_Ht`: the functions to evaluate the measurement model and its Jacobian"
   ]
  },
  {
   "cell_type": "code",
   "execution_count": 1157,
   "metadata": {},
   "outputs": [],
   "source": [
    "import math\n",
    "\n",
    "class RobotEKF:\n",
    "    def __init__(\n",
    "        self,\n",
    "        dim_x=1, dim_z=1, dim_u=1,\n",
    "        eval_gux=None, eval_Gt=None, eval_Vt=None,\n",
    "        eval_hx=None, eval_Ht=None,\n",
    "    ):\n",
    "        \"\"\"\n",
    "        Initializes the extended Kalman filter creating the necessary matrices\n",
    "        \"\"\"\n",
    "        self.mu = np.zeros((dim_x, 1))  # mean state estimate\n",
    "        self.Sigma = np.eye(dim_x)  # covariance state estimate\n",
    "        self.Mt = np.eye(dim_u)  # process noise\n",
    "        self.Qt = np.eye(dim_z)  # measurement noise\n",
    "\n",
    "        self.eval_gux = eval_gux\n",
    "        self.eval_Gt = eval_Gt\n",
    "        self.eval_Vt = eval_Vt\n",
    "\n",
    "        self.eval_hx = eval_hx\n",
    "        self.eval_Ht = eval_Ht\n",
    "\n",
    "        self._I = np.eye(dim_x)  # identity matrix used for computations"
   ]
  },
  {
   "cell_type": "markdown",
   "metadata": {},
   "source": [
    "#### Prediction Step\n",
    "\n",
    "The function `predict` implement the prediction step of the EKF given an input and a time interval.\n",
    "\n",
    "Complete where you find the symbol `...` using the equations of the EKF\n",
    "\n",
    "$$\n",
    "\\begin{aligned}\n",
    "\\bar{\\mu}_t =& g(u_t, \\mu_{t-1}) \\\\\n",
    "\\bar{\\Sigma}_t =& G_t \\Sigma_{t-1} G_t^T + V_t M_t V_t^T\n",
    "\\end{aligned}\n",
    "$$\n",
    "\n",
    "  The argument `g_extra_args` is a tuple of all the arguments different from $\\mu_{t-1}$ and $u_t$ to evaluate the motion model, e.g. $\\Delta t$ for the velocity motion model.\n"
   ]
  },
  {
   "cell_type": "code",
   "execution_count": 1158,
   "metadata": {},
   "outputs": [],
   "source": [
    "def predict(self, u, g_extra_args=()):\n",
    "    \"\"\"\n",
    "    Update the state prediction using the control input u and compute the relative uncertainty ellipse\n",
    "\n",
    "    Modified variables:\n",
    "        self.mu: the state prediction\n",
    "        self.Sigma: the covariance matrix of the state prediction\n",
    "    \"\"\"\n",
    "\n",
    "    # mu is the state, it's a matrix \n",
    "    # u is the velocity and it's a vector\n",
    "\n",
    "    # Update the state prediction evaluating the motion model\n",
    "    # We defined mu with: x, y, theta, v, w, dt\n",
    "    x = self.mu[0,0]\n",
    "    y = self.mu[1,0]\n",
    "    theta = self.mu[2,0]\n",
    "    v = u[0,0]\n",
    "    w = u[1,0]\n",
    "    self.mu = self.eval_gux(x, y, theta, v, w, *g_extra_args)\n",
    "\n",
    "    \n",
    "    # Update the covariance matrix of the state prediction, \n",
    "    # you need to evaluate the Jacobians Gt and Vt\n",
    "    Gt = self.eval_Gt(theta, v, w, *g_extra_args)\n",
    "    Vt = self.eval_Vt(theta, v, w, *g_extra_args)\n",
    "    self.Sigma = Gt@self.Sigma@Gt.T + Vt@self.Mt@Vt.T\n",
    "\n",
    "RobotEKF.predict = predict"
   ]
  },
  {
   "cell_type": "markdown",
   "metadata": {},
   "source": [
    "#### Measurement Update Step\n",
    "\n",
    "The function `update` compute the posterior of the filter given a measure `z`, a measurement model `hx` and its Jacobian `H`.\n",
    "\n",
    "Complete the function where you find the symbol `...` with the posterior update equations of the EKF.\n",
    "\n",
    "$$\n",
    "\\begin{aligned}\n",
    "S_t^i &= H_t^i \\bar{\\Sigma}_t [H_t^i]^T + Q_t \\\\\n",
    "K_i^t &= \\bar{\\Sigma}_t [H_t^i]^T [S_t^i]^{-1} \\\\\n",
    "\\mu_t &= \\bar{\\mu}_t + K^i_t(z^i_t - \\hat{z}_t^i) \\\\\n",
    "\\Sigma_t &= (I - K^i_t H^i_t) \\bar{\\Sigma}_t\n",
    "\\end{aligned}\n",
    "$$\n",
    "\n",
    "The argument `h_extra_args` is a tuple of all the arguments different from $\\bar \\mu_t$ to evaluate the measurement model, e.g. the landmark position."
   ]
  },
  {
   "cell_type": "code",
   "execution_count": 1159,
   "metadata": {},
   "outputs": [],
   "source": [
    "def update(self, z, lmark, residual=np.subtract):\n",
    "    \"\"\"Performs the update innovation of the extended Kalman filter.\n",
    "\n",
    "    Parameters\n",
    "    ----------\n",
    "\n",
    "    z : np.array\n",
    "        measurement for this step.\n",
    "\n",
    "    lmark : [x, y] list-like\n",
    "        Landmark location in cartesian coordinates.\n",
    "\n",
    "    residual : function (z, z2), optional\n",
    "        Optional function that computes the residual (difference) between\n",
    "        the two measurement vectors. If you do not provide this, then the\n",
    "        built in minus operator will be used. You will normally want to use\n",
    "        the built in unless your residual computation is nonlinear (for\n",
    "        example, if they are angles)\n",
    "    \"\"\"\n",
    "    \n",
    "    # Convert the measurement to a vector if necessary. Needed for the residual computation\n",
    "    if np.isscalar(z) and self.dim_z == 1:\n",
    "        z = np.asarray([z], float)\n",
    "\n",
    "    # Compute the Kalman gain, you need to evaluate the Jacobian Ht\n",
    "    Q = symbols('Q')\n",
    "    #x,y, mx, my\n",
    "    x = self.mu[0,0]\n",
    "    y = self.mu[1,0]\n",
    "    theta = self.mu[2,0]\n",
    "    mx = lmark[0]\n",
    "    my = lmark[1]\n",
    "    Ht = self.eval_Ht(mx, x, my, y)\n",
    "    self.S = Ht@self.Sigma@Ht.T+ self.Qt ###########\n",
    "    self.K = self.Sigma@Ht.T@inv(self.S)  #########\n",
    "\n",
    "    # Evaluate the expected measurement and compute the residual, then update the state prediction\n",
    "    z_hat = self.eval_hx(mx, my, x, y, theta)\n",
    "    self.y = residual(z, z_hat) ###############\n",
    "    self.mu = self.mu+ self.K@(z+z_hat) ############\n",
    "\n",
    "    # P = (I-KH)P(I-KH)' + KRK' is more numerically stable and works for non-optimal K vs the equation\n",
    "    # P = (I-KH)P usually seen in the literature. \n",
    "    # Note that I is the identity matrix.\n",
    "   \n",
    "    I_KH = self._I-self.K@Ht\n",
    "    self.Sigma = I_KH@self.Sigma\n",
    "    \n",
    "RobotEKF.update = update"
   ]
  },
  {
   "cell_type": "markdown",
   "metadata": {},
   "source": [
    "---\n",
    "## Measurement Simulator\n",
    "\n",
    "This function simulate the measurement of a landmark adding noise to the value computed with the measurement model. \n",
    "\n",
    "The sensor has a Field of View (FOV) of 180° and a maximum range of 15 meters, i.e. only the landmarks reasonably in the robot's view can be used to correct the filter.\n",
    "\n",
    "Fill the `...` with the arguments to evaluate the function."
   ]
  },
  {
   "cell_type": "code",
   "execution_count": 1160,
   "metadata": {},
   "outputs": [],
   "source": [
    "from numpy.random import randn # function to get a random number from a Gaussian distribution\n",
    "\n",
    "def z_landmark(x, lmark, std_rng=0.5, std_brg=0.5):\n",
    "    \"\"\"\n",
    "    Simulate the measurement of a landmark adding some Gaussian noise\n",
    "\n",
    "    Args:\n",
    "        x [np.array]: the position of the robot with shape (dim_x, 1)\n",
    "        lmark [np.array or List]: the position of the landmark, eg. [x, y]\n",
    "        std_rng [float]: the standard deviation of the range measurement\n",
    "        std_brg [float]: the standard deviation of the bearing measurement\n",
    "    Returns:\n",
    "        z [np.array]: the measurement of the landmark\n",
    "    \"\"\"\n",
    "    # mx, my, x, y\n",
    "    \n",
    "    mx = lmark[0]\n",
    "    my = lmark[1]\n",
    "    x_ = x[0,0]\n",
    "    y = x[1,0]\n",
    "    theta = x[2,0]\n",
    "    z = eval_hx(mx, x_, my, y, theta) #########################\n",
    " \n",
    "    # filter z for a more realistic sensor simulation (add a max range distance and a FOV)\n",
    "    fov = np.deg2rad(45)\n",
    "    if z[0, 0] < 8.0 and abs(z[1, 0])<fov:\n",
    "        return z + np.array([[randn() * std_rng**2, randn() * std_brg]]).T\n",
    "        \n",
    "    return None\n",
    "\n",
    "    "
   ]
  },
  {
   "cell_type": "markdown",
   "metadata": {},
   "source": [
    "Now we have another issue to handle. The residual is notionally computed as $y = z - h(x)$ but this will not work because our measurement contains an angle in it. Suppose z has a bearing of $1^\\circ$ and $h(x)$ has a bearing of $359^\\circ$. Naively subtracting them would yield a angular difference of $-358^\\circ$, whereas the correct value is $2^\\circ$. We have to write code to correctly compute the bearing residual."
   ]
  },
  {
   "cell_type": "code",
   "execution_count": 1161,
   "metadata": {},
   "outputs": [],
   "source": [
    "def residual(a, b):\n",
    "    \"\"\"\n",
    "    Compute the residual between measuremnts, normalizing angles between [-pi, pi)\n",
    "\n",
    "    Returns:\n",
    "        y [np.array] : the residual between the two states\n",
    "    \"\"\"\n",
    "    y = a - b\n",
    "    y[1] = y[1] % (2 * np.pi)  # force in range [0, 2 pi)\n",
    "    if y[1] > np.pi:  # move to [-pi, pi)\n",
    "        y[1] -= 2 * np.pi\n",
    "    return y"
   ]
  },
  {
   "cell_type": "markdown",
   "metadata": {},
   "source": [
    "---\n",
    "<a id='simulator1'></a>\n",
    "\n",
    "## Simulator\n",
    "\n",
    "The following function implements a simple simulator that you can use to test your filters. It deals with three tasks:\n",
    "\n",
    "- **simulate the robot** evaluating the motion model at a frequency higher w.r.t. the update rate of the EKF, defined by the parameter `sim_step_s`\n",
    "- **run the EKF** at its expected frequency `ekf_dt`\n",
    "- **plot** the simulated (real) path and the positions estimated by the EKF with the prior and posterior covariances\n",
    "\n",
    "Complete the functions where you find `...`"
   ]
  },
  {
   "cell_type": "code",
   "execution_count": 1162,
   "metadata": {},
   "outputs": [],
   "source": [
    "from utils import plot_covariance\n",
    "import matplotlib.pyplot as plt\n",
    "\n",
    "\n",
    "\n",
    "def run_localization(\n",
    "    ekf: RobotEKF,\n",
    "    ekf_dt,\n",
    "    landmarks,\n",
    "    std_lin_vel,\n",
    "    std_ang_vel,\n",
    "    std_range,\n",
    "    std_bearing,\n",
    "    sim_step_s=0.1,\n",
    "    ellipse_step_s=5.0,\n",
    "    sim_length_s=1,\n",
    "):\n",
    "    sim_pos = ekf.mu.copy()  # simulated position, copy the initial position set inside the EKF\n",
    "    odom_pos = ekf.mu.copy()  # odometry position, copy the initial position set inside the EKF\n",
    "    sim_noise_generator = np.random.default_rng(42424242)  # random noise generator\n",
    "\n",
    "    cmd_vel = np.array(\n",
    "        [[1.10, 0.05]]\n",
    "    ).T  # velocity command (v, omega). In this case will be constant for the whole simulation\n",
    "\n",
    "    # convert the durations to number of time steps\n",
    "    steps = int(sim_length_s / sim_step_s)\n",
    "    ekf_step = int(ekf_dt / sim_step_s)\n",
    "    ellipse_step = int(ellipse_step_s / sim_step_s)\n",
    "\n",
    "    # Initialize a plot and insert the landmarks\n",
    "    fig, ax = plt.subplots(1, 2, figsize=(9, 4))\n",
    "    lmarks_legend = ax[0].scatter(landmarks[:, 0], landmarks[:, 1], marker=\"s\", s=60, label=\"Landmarks\")\n",
    "\n",
    "    track = []  # list to store all the robot positions\n",
    "    track_odom = []  # list to store all the odometry positions\n",
    "    track_ekf = [ekf.mu.copy()]  # list to store all the ekf positions\n",
    "\n",
    "    # The main loop that runs the simulation\n",
    "    for i in range(steps):\n",
    "        # to simulate the error in the actuation of the robot, we add some Gaussian noise to the velocity command\n",
    "        noisy_vel = cmd_vel + np.array([[std_lin_vel, std_ang_vel]]).T * sim_noise_generator.normal(size=(2, 1))\n",
    "        # Simulate robot motion for sim_step_s seconds using the Velocity Motion Model.\n",
    "        # Complete with the correct data to evaluate the motion model, use the noisy_vel variable\n",
    "        #noisy_vel è una matrice \n",
    "        #gux is defined by x, y, theta, v, w, dt\n",
    "        x = sim_pos[0,0]\n",
    "        y = sim_pos[1,0]\n",
    "        theta = sim_pos[2,0]\n",
    "        v = noisy_vel[0,0]\n",
    "        w = noisy_vel[1,0]\n",
    "        dt = sim_step_s\n",
    "        sim_pos = eval_gux(x, y, theta, v, w, dt) \n",
    "        track.append(sim_pos)\n",
    "\n",
    "        # to simulate the error in the odometry reading, we take another Gaussian sample of the velocity command\n",
    "        noisy_vel = cmd_vel + np.array([[std_lin_vel, std_ang_vel]]).T * sim_noise_generator.normal(size=(2, 1))\n",
    "        # complete with the correct data to evaluate the motion model, use the noisy_vel variable\n",
    "        x = odom_pos[0,0]\n",
    "        y = odom_pos[1,0]\n",
    "        theta = odom_pos[2,0]\n",
    "        v = noisy_vel[0,0]\n",
    "        w = noisy_vel[1,0]\n",
    "        dt = sim_step_s\n",
    "        odom_pos = eval_gux(x, y, theta, v, w, dt)\n",
    "        track_odom.append(odom_pos)\n",
    "\n",
    "        if i % ekf_step == 0 and i != 0:  # only update ekf at dt intervals\n",
    "            # run the prediction step of the EKF\n",
    "            ekf.predict(u=cmd_vel, g_extra_args=(ekf_dt,))\n",
    "\n",
    "            if i % ellipse_step == 0:  # plot the prior covariance ellipses every ellipse_step_s seconds\n",
    "                pri_ellipse = plot_covariance(\n",
    "                    (ekf.mu[0, 0], ekf.mu[1, 0]),\n",
    "                    ekf.Sigma[0:2, 0:2],\n",
    "                    std=6,\n",
    "                    facecolor=\"k\",\n",
    "                    alpha=0.4,\n",
    "                    label=\"Predicted Cov\",\n",
    "                    ax=ax[0],\n",
    "                )\n",
    "\n",
    "            for lmark in landmarks:  # loop over each landmark\n",
    "                z = z_landmark(sim_pos, lmark, std_range, std_bearing)  # simulate the measurement of the landmark\n",
    "\n",
    "                # if any landmark detected by the sensor, update the EKF\n",
    "                if z is not None:\n",
    "                    # run the correction step of the EKF\n",
    "                    ekf.update(z, lmark, residual=residual)\n",
    "\n",
    "            if i % ellipse_step == 0:  # plot the posterior covariance ellipses every ellipse_step_s seconds\n",
    "                post_ellipse = plot_covariance(\n",
    "                    (ekf.mu[0, 0], ekf.mu[1, 0]),\n",
    "                    ekf.Sigma[0:2, 0:2],\n",
    "                    std=6,\n",
    "                    facecolor=\"g\",\n",
    "                    alpha=0.8,\n",
    "                    label=\"Corrected Cov\",\n",
    "                    ax=ax[0],\n",
    "                )\n",
    "            track_ekf.append(ekf.mu.copy())\n",
    "\n",
    "    # draw plots\n",
    "    track = np.array(track)\n",
    "    track_odom = np.array(track_odom)\n",
    "    track_ekf = np.array(track_ekf)\n",
    "    \n",
    "    # trajectory plots\n",
    "    (track_legend,) = ax[0].plot(track[:, 0], track[:, 1], label=\"Real robot path\")\n",
    "    (track_odom_legend,) = ax[0].plot(track_odom[:, 0], track_odom[:, 1], \"--\", label=\"Odometry path\")\n",
    "    ax[0].axis(\"equal\")\n",
    "    ax[0].set_title(\"EKF Robot localization\")\n",
    "    ax[0].legend(handles=[lmarks_legend, track_legend, track_odom_legend, pri_ellipse, post_ellipse])\n",
    "\n",
    "    # error plots\n",
    "    ekf_err, =  ax[1].plot(\n",
    "        np.arange(0, sim_length_s, ekf_dt), \n",
    "        np.linalg.norm(track[::ekf_step, :2] - track_ekf[:, :2], axis=1), \n",
    "        '-o',\n",
    "        label=\"EKF error\",\n",
    "    )\n",
    "    odom_err, = ax[1].plot(\n",
    "        np.arange(0, sim_length_s, sim_step_s), \n",
    "        np.linalg.norm(track[:, :2] - track_odom[:, :2], axis=1), \n",
    "        label=\"Odometry error\",\n",
    "    )\n",
    "    ax[1].legend(handles=[ekf_err, odom_err])\n",
    "    ax[1].set_title(\"Robot path error\")\n",
    "\n",
    "    fig.suptitle(\"EKF Robot localization, Velocity Motion Model\")\n",
    "    fig.tight_layout()\n",
    "\n",
    "    plt.show()"
   ]
  },
  {
   "cell_type": "markdown",
   "metadata": {},
   "source": [
    "### Run the simulation\n",
    "Here it an example of how to run the simulation. \n",
    "- Create a vector of landmarks positions\n",
    "- Call the function that run the simulation passing all the arguments\n",
    "\n",
    "To test if your code is working properly, run the code below without changing parameters. The expected output is reported below.\n",
    "\n",
    "\n",
    "![Expected Output](./expected_output.png)"
   ]
  },
  {
   "cell_type": "code",
   "execution_count": 1163,
   "metadata": {},
   "outputs": [],
   "source": [
    "# Parameters\n",
    "seed = 42  # because it is the answer to the Ultimate Question of Life, The Universe and Everything :)\n",
    "\n",
    "landmarks = np.array([[5, 12], [10, 5], [15, 15], [10, 14], [6, 6], [12, 9]])  # standard landmarks\n",
    "\n",
    "ekf_dt = 1.0  # time interval between measurements [s]\n",
    "sim_length_s = 15  # length of the simulation [s]\n",
    "\n",
    "# set the seed to get the same results every time\n",
    "std_lin_vel = 0.1  # [m/s]\n",
    "std_ang_vel = np.deg2rad(1.0)  # [rad/s]\n",
    "std_range = 0.3  # [m]\n",
    "std_bearing = np.deg2rad(1.0)  # [rad]"
   ]
  },
  {
   "cell_type": "code",
   "execution_count": 1164,
   "metadata": {},
   "outputs": [
    {
     "data": {
      "image/png": "[encoded data removed]",
      "text/plain": [
       "<Figure size 900x400 with 2 Axes>"
      ]
     },
     "metadata": {},
     "output_type": "display_data"
    }
   ],
   "source": [
    "# set the seed to get the same results every time\n",
    "np.random.seed(seed)\n",
    "\n",
    "# Initialize the EKF\n",
    "ekf = RobotEKF(\n",
    "    dim_x=3,\n",
    "    dim_z=2,\n",
    "    dim_u=2,\n",
    "    eval_gux=eval_gux,\n",
    "    eval_Gt=eval_Gt,\n",
    "    eval_Vt=eval_Vt,\n",
    "    eval_hx=eval_hx,\n",
    "    eval_Ht=eval_Ht,\n",
    ")\n",
    "ekf.mu = np.array([[2, 6, 0.3]]).T  # x, y, theta\n",
    "ekf.Sigma = np.diag([0.1, 0.1, 0.1])\n",
    "ekf.Mt = np.diag([std_lin_vel**2, std_ang_vel**2])\n",
    "ekf.Qt = np.diag([std_range**2, std_bearing**2])\n",
    "\n",
    "\n",
    "run_localization(\n",
    "    ekf,\n",
    "    ekf_dt=ekf_dt,\n",
    "    landmarks=landmarks,\n",
    "    std_lin_vel=std_lin_vel,\n",
    "    std_ang_vel=std_ang_vel,\n",
    "    std_range=std_range,\n",
    "    std_bearing=std_bearing,\n",
    "    ellipse_step_s=2.0,\n",
    "    sim_length_s=sim_length_s,\n",
    ")"
   ]
  },
  {
   "cell_type": "markdown",
   "metadata": {},
   "source": [
    "---\n",
    "\n",
    "## Odometry Motion Model\n",
    "\n",
    "Implement the Odometry motion model described by the equations reported below.\n",
    "1. Get the inputs $\\delta_{rot1}$ , $\\delta_{trasl}$, $\\delta_{rot2}$ from the previous odometry reading $\\bar x$ and the current odometry reading $\\bar x'$\n",
    "2. Implement the function $g(u_t,x_{t-1})$ to use this model inside an EKF\n",
    "\n",
    "$$\n",
    "\\begin{align}\n",
    "&\\delta_{rot1} =& \\operatorname{atan_{2}}{\\left(\\bar{y}'- \\bar{y} ,\\bar{x}' - \\bar{x}  \\right)} - \\bar{\\theta} \\\\\n",
    "&\\delta_{trasl} =& \\sqrt{\\left(\\bar{x}' - \\bar{x} \\right)^{2} + \\left(\\bar{y}' - \\bar{y} \\right)^{2}} \\\\\n",
    "&\\delta_{rot2} =& \\bar{\\theta}' - \\delta_{rot1} - \\bar{\\theta} \\\\\n",
    "\\end{align}\n",
    "$$\n",
    "\n",
    "$$\n",
    "\\begin{pmatrix}\n",
    "x_t \\\\ y_t \\\\ \\theta_t\n",
    "\\end{pmatrix} = g(u_t,x_{t-1}) + \\mathcal{N}(0, R_t) = \n",
    "\\begin{pmatrix}\n",
    "x_{t-1} \\\\ y_{t-1} \\\\ \\theta_{t-1}\n",
    "\\end{pmatrix} + \n",
    "\\left(\n",
    "    \\begin{matrix}\n",
    "    \\delta_{trasl} \\cos{\\left(\\delta_{rot1} + \\theta \\right)} \\\\\n",
    "    \\delta_{trasl} \\sin{\\left(\\delta_{rot1} + \\theta \\right)} \\\\\n",
    "    \\delta_{rot1} + \\delta_{rot2}\n",
    "    \\end{matrix} \n",
    "\\right) + \\mathcal{N}(0, R_t)\n",
    "$$"
   ]
  },
  {
   "cell_type": "code",
   "execution_count": 1165,
   "metadata": {},
   "outputs": [],
   "source": [
    "def get_odometry_input(x, x_prev):\n",
    "    x0 = x[0,0]\n",
    "    xp = x_prev[0,0]\n",
    "    y0 = [1, 0]\n",
    "    yp =x_prev[1,0]\n",
    "    theta = x[2,0]\n",
    "    thetap = x_prev[2,0]\n",
    "    rot1 = atan2(yp-y0, xp-x0) -theta \n",
    "    trasl = sqrt((xp-x0)**2 + (yp-y0)**2)\n",
    "    rot2 = thetap-rot1-theta\n",
    "    return np.array([[rot1, trasl, rot2]]).T"
   ]
  },
  {
   "cell_type": "code",
   "execution_count": 1166,
   "metadata": {},
   "outputs": [
    {
     "data": {
      "text/latex": [
       "$\\displaystyle \\left[\\begin{matrix}trasl \\cos{\\left(rot_{1} + \\theta \\right)} + x\\\\trasl \\sin{\\left(rot_{1} + \\theta \\right)} + y\\\\rot_{1} + rot_{2} + \\theta\\end{matrix}\\right]$"
      ],
      "text/plain": [
       "⎡trasl⋅cos(rot₁ + θ) + x⎤\n",
       "⎢                       ⎥\n",
       "⎢trasl⋅sin(rot₁ + θ) + y⎥\n",
       "⎢                       ⎥\n",
       "⎣    rot₁ + rot₂ + θ    ⎦"
      ]
     },
     "execution_count": 1166,
     "metadata": {},
     "output_type": "execute_result"
    }
   ],
   "source": [
    "x, y, theta, rot1, trasl, rot2 =symbols('x y theta rot1 trasl rot2')\n",
    "gux_odom = Matrix([[x],[y],[theta]])+ Matrix([[trasl *cos(rot1+theta)], [trasl*sin(rot1+theta)], [rot1+rot2]])\n",
    "Gt_odom = gux_odom.jacobian(Matrix([x, y, theta]))\n",
    "Vt_odom = gux_odom.jacobian(Matrix([rot1, rot2, trasl]))\n",
    "\n",
    "eval_gux_odom = sympy.lambdify((x, y, theta, rot1, trasl, rot2), gux_odom , 'numpy')\n",
    "eval_Gt_odom = sympy.lambdify((theta, trasl, rot1, rot2), Gt_odom, 'numpy')\n",
    "eval_Vt_odom = sympy.lambdify((theta, trasl, rot1, rot2), Vt_odom, 'numpy')\n",
    "gux_odom"
   ]
  },
  {
   "cell_type": "markdown",
   "metadata": {},
   "source": [
    "--- \n",
    "\n",
    "## Simulator (with Odometry motion model)\n",
    "\n",
    "This function is very similar to the previous simulator but there are some small changes in the prediction step where it is used the function `get_odometry_input` and the previous odometry position is stored for the next iteration."
   ]
  },
  {
   "cell_type": "code",
   "execution_count": 1167,
   "metadata": {},
   "outputs": [],
   "source": [
    "def run_localization_odom(\n",
    "    ekf: RobotEKF,\n",
    "    ekf_dt,\n",
    "    landmarks,\n",
    "    std_lin_vel,\n",
    "    std_ang_vel,\n",
    "    std_range,\n",
    "    std_bearing,\n",
    "    sim_step_s=0.1,\n",
    "    ellipse_step_s=5.0,\n",
    "    sim_length_s=1,\n",
    "):\n",
    "    sim_pos = ekf.mu.copy()  # simulated position, copy the initial position set inside the EKF\n",
    "    odom_pos = ekf.mu.copy()  # odometry position, copy the initial position set inside the EKF\n",
    "    sim_noise_generator = np.random.default_rng(42424242)  # random noise generator\n",
    "\n",
    "    cmd_vel = np.array(\n",
    "        [[1.10, 0.05]]\n",
    "    ).T  # velocity command (v, omega). In this case will be constant for the whole simulation\n",
    "\n",
    "    # convert the durations to number of time steps\n",
    "    steps = int(sim_length_s / sim_step_s)\n",
    "    ekf_step = int(ekf_dt / sim_step_s)\n",
    "    ellipse_step = int(ellipse_step_s / sim_step_s)\n",
    "\n",
    "    # Initialize a plot and insert the landmarks\n",
    "    fig, ax = plt.subplots(1, 2, figsize=(9, 4))\n",
    "    lmarks_legend = ax[0].scatter(landmarks[:, 0], landmarks[:, 1], marker=\"s\", s=60, label=\"Landmarks\")\n",
    "\n",
    "    track = []  # list to store all the robot positions\n",
    "    track_odom = []  # list to store all the odometry positions\n",
    "    track_ekf = [ekf.mu.copy()]  # list to store all the ekf positions\n",
    "\n",
    "    odom_pos_prev = odom_pos.copy()\n",
    "\n",
    "    # The main loop that runs the simulation\n",
    "    for i in range(steps):\n",
    "        # to simulate the error in the actuation of the robot, we add some Gaussian noise to the velocity command\n",
    "        noisy_vel = cmd_vel + np.array([[std_lin_vel, std_ang_vel]]).T * sim_noise_generator.normal(size=(2, 1))\n",
    "        # Simulate robot motion for sim_step_s seconds using the Velocity Motion Model.\n",
    "        # Complete with the correct data to evaluate the motion model\n",
    "        sim_pos = eval_gux(sim_pos[0,0], sim_pos[1,0], sim_pos[2,0], noisy_vel[0,0], noisy_vel[1,0], sim_step_s)\n",
    "        track.append(sim_pos)\n",
    "\n",
    "        # to simulate the error in the odometry reading, we take another Gaussian sample of the velocity command\n",
    "        noisy_vel = cmd_vel + np.array([[std_lin_vel, std_ang_vel]]).T * sim_noise_generator.normal(size=(2, 1))\n",
    "        odom_pos = eval_gux(odom_pos[0,0], odom_pos[1,0], odom_pos[2,0], noisy_vel[0,0], noisy_vel[1,0], sim_step_s)\n",
    "        track_odom.append(odom_pos)\n",
    "\n",
    "        if i % ekf_step == 0 and i != 0:  # only update ekf at dt intervals\n",
    "            # run the prediction step of the EKF\n",
    "            u = get_odometry_input(odom_pos, odom_pos_prev)\n",
    "            ekf.predict(u=u)\n",
    "            odom_pos_prev = odom_pos.copy()\n",
    "\n",
    "            if i % ellipse_step == 0:  # plot the prior covariance ellipses every ellipse_step_s seconds\n",
    "                pri_ellipse = plot_covariance(\n",
    "                    (ekf.mu[0, 0], ekf.mu[1, 0]),\n",
    "                    ekf.Sigma[0:2, 0:2],\n",
    "                    std=6,\n",
    "                    facecolor=\"k\",\n",
    "                    alpha=0.4,\n",
    "                    label=\"Predicted Cov\",\n",
    "                    ax=ax[0],\n",
    "                )\n",
    "\n",
    "            for lmark in landmarks:  # loop over each landmark\n",
    "                z = z_landmark(sim_pos, lmark, std_range, std_bearing)  # simulate the measurement of the landmark\n",
    "\n",
    "                # if any landmark detected by the sensor, update the EKF\n",
    "                if z is not None:\n",
    "                    # run the correction step of the EKF\n",
    "                    ekf.update(z, lmark, residual=residual)\n",
    "\n",
    "            if i % ellipse_step == 0:  # plot the posterior covariance ellipses every ellipse_step_s seconds\n",
    "                post_ellipse = plot_covariance(\n",
    "                    (ekf.mu[0, 0], ekf.mu[1, 0]),\n",
    "                    ekf.Sigma[0:2, 0:2],\n",
    "                    std=6,\n",
    "                    facecolor=\"g\",\n",
    "                    alpha=0.8,\n",
    "                    label=\"Corrected Cov\",\n",
    "                    ax=ax[0],\n",
    "                )\n",
    "            track_ekf.append(ekf.mu.copy())\n",
    "\n",
    "    # draw plots\n",
    "    track = np.array(track)\n",
    "    track_odom = np.array(track_odom)\n",
    "    track_ekf = np.array(track_ekf)\n",
    "    \n",
    "    # trajectory plots\n",
    "    (track_legend,) = ax[0].plot(track[:, 0], track[:, 1], label=\"Real robot path\")\n",
    "    (track_odom_legend,) = ax[0].plot(track_odom[:, 0], track_odom[:, 1], \"--\", label=\"Odometry path\")\n",
    "    ax[0].axis(\"equal\")\n",
    "    ax[0].set_title(\"EKF Robot localization\")\n",
    "    ax[0].legend(handles=[lmarks_legend, track_legend, track_odom_legend, pri_ellipse, post_ellipse])\n",
    "\n",
    "    # error plots\n",
    "    ekf_err, =  ax[1].plot(\n",
    "        np.arange(0, sim_length_s, ekf_dt), \n",
    "        np.linalg.norm(track[::ekf_step, :2] - track_ekf[:, :2], axis=1), \n",
    "        '-o',\n",
    "        label=\"EKF error\",\n",
    "    )\n",
    "    odom_err, = ax[1].plot(\n",
    "        np.arange(0, sim_length_s, sim_step_s), \n",
    "        np.linalg.norm(track[:, :2] - track_odom[:, :2], axis=1), \n",
    "        label=\"Odometry error\",\n",
    "    )\n",
    "    ax[1].legend(handles=[ekf_err, odom_err])\n",
    "    ax[1].set_title(\"Robot path error\")\n",
    "\n",
    "    fig.suptitle(\"EKF Robot localization, Velocity Motion Model\")\n",
    "    fig.tight_layout()\n",
    "\n",
    "    plt.show()"
   ]
  },
  {
   "cell_type": "markdown",
   "metadata": {},
   "source": [
    "### Run the simulation\n",
    "\n",
    "Define suitable standard deviation values for `std_rot1`, `std_trasl`, `std_rot2`.\n",
    "\n",
    "The expected output should be similar to the plot reported below, results may vary depending on your standard deviations.\n",
    "\n",
    "![expected_output_odom.png](./expected_output_odom.png)"
   ]
  },
  {
   "cell_type": "code",
   "execution_count": 1168,
   "metadata": {},
   "outputs": [
    {
     "ename": "SympifyError",
     "evalue": "SympifyError: array([26.33784, 37.33784])",
     "output_type": "error",
     "traceback": [
      "\u001b[0;31m---------------------------------------------------------------------------\u001b[0m",
      "\u001b[0;31mTypeError\u001b[0m                                 Traceback (most recent call last)",
      "File \u001b[0;32m~/.local/lib/python3.10/site-packages/sympy/core/cache.py:72\u001b[0m, in \u001b[0;36m__cacheit.<locals>.func_wrapper.<locals>.wrapper\u001b[0;34m(*args, **kwargs)\u001b[0m\n\u001b[1;32m     71\u001b[0m \u001b[39mtry\u001b[39;00m:\n\u001b[0;32m---> 72\u001b[0m     retval \u001b[39m=\u001b[39m cfunc(\u001b[39m*\u001b[39;49margs, \u001b[39m*\u001b[39;49m\u001b[39m*\u001b[39;49mkwargs)\n\u001b[1;32m     73\u001b[0m \u001b[39mexcept\u001b[39;00m \u001b[39mTypeError\u001b[39;00m \u001b[39mas\u001b[39;00m e:\n",
      "\u001b[0;31mTypeError\u001b[0m: unhashable type: 'numpy.ndarray'",
      "\nDuring handling of the above exception, another exception occurred:\n",
      "\u001b[0;31mSympifyError\u001b[0m                              Traceback (most recent call last)",
      "\u001b[1;32m/home/giorgia/Documents/ekf_students.ipynb Cell 49\u001b[0m line \u001b[0;36m2\n\u001b[1;32m     <a href='vscode-notebook-cell:/home/giorgia/Documents/ekf_students.ipynb#X66sZmlsZQ%3D%3D?line=20'>21</a>\u001b[0m ekf\u001b[39m.\u001b[39mMt \u001b[39m=\u001b[39m np\u001b[39m.\u001b[39mdiag([std_rot1\u001b[39m*\u001b[39m\u001b[39m*\u001b[39m\u001b[39m2\u001b[39m, std_trasl\u001b[39m*\u001b[39m\u001b[39m*\u001b[39m\u001b[39m2\u001b[39m, std_rot2\u001b[39m*\u001b[39m\u001b[39m*\u001b[39m\u001b[39m2\u001b[39m])\n\u001b[1;32m     <a href='vscode-notebook-cell:/home/giorgia/Documents/ekf_students.ipynb#X66sZmlsZQ%3D%3D?line=21'>22</a>\u001b[0m ekf\u001b[39m.\u001b[39mQt \u001b[39m=\u001b[39m np\u001b[39m.\u001b[39mdiag([std_range\u001b[39m*\u001b[39m\u001b[39m*\u001b[39m\u001b[39m2\u001b[39m, std_bearing\u001b[39m*\u001b[39m\u001b[39m*\u001b[39m\u001b[39m2\u001b[39m])\n\u001b[0;32m---> <a href='vscode-notebook-cell:/home/giorgia/Documents/ekf_students.ipynb#X66sZmlsZQ%3D%3D?line=23'>24</a>\u001b[0m run_localization_odom(\n\u001b[1;32m     <a href='vscode-notebook-cell:/home/giorgia/Documents/ekf_students.ipynb#X66sZmlsZQ%3D%3D?line=24'>25</a>\u001b[0m     ekf,\n\u001b[1;32m     <a href='vscode-notebook-cell:/home/giorgia/Documents/ekf_students.ipynb#X66sZmlsZQ%3D%3D?line=25'>26</a>\u001b[0m     ekf_dt\u001b[39m=\u001b[39;49mekf_dt,\n\u001b[1;32m     <a href='vscode-notebook-cell:/home/giorgia/Documents/ekf_students.ipynb#X66sZmlsZQ%3D%3D?line=26'>27</a>\u001b[0m     landmarks\u001b[39m=\u001b[39;49mlandmarks,\n\u001b[1;32m     <a href='vscode-notebook-cell:/home/giorgia/Documents/ekf_students.ipynb#X66sZmlsZQ%3D%3D?line=27'>28</a>\u001b[0m     std_lin_vel\u001b[39m=\u001b[39;49mstd_lin_vel,\n\u001b[1;32m     <a href='vscode-notebook-cell:/home/giorgia/Documents/ekf_students.ipynb#X66sZmlsZQ%3D%3D?line=28'>29</a>\u001b[0m     std_ang_vel\u001b[39m=\u001b[39;49mstd_ang_vel,\n\u001b[1;32m     <a href='vscode-notebook-cell:/home/giorgia/Documents/ekf_students.ipynb#X66sZmlsZQ%3D%3D?line=29'>30</a>\u001b[0m     std_range\u001b[39m=\u001b[39;49mstd_range,\n\u001b[1;32m     <a href='vscode-notebook-cell:/home/giorgia/Documents/ekf_students.ipynb#X66sZmlsZQ%3D%3D?line=30'>31</a>\u001b[0m     std_bearing\u001b[39m=\u001b[39;49mstd_bearing,\n\u001b[1;32m     <a href='vscode-notebook-cell:/home/giorgia/Documents/ekf_students.ipynb#X66sZmlsZQ%3D%3D?line=31'>32</a>\u001b[0m     ellipse_step_s\u001b[39m=\u001b[39;49m\u001b[39m2.0\u001b[39;49m,\n\u001b[1;32m     <a href='vscode-notebook-cell:/home/giorgia/Documents/ekf_students.ipynb#X66sZmlsZQ%3D%3D?line=32'>33</a>\u001b[0m     sim_length_s\u001b[39m=\u001b[39;49msim_length_s,\n\u001b[1;32m     <a href='vscode-notebook-cell:/home/giorgia/Documents/ekf_students.ipynb#X66sZmlsZQ%3D%3D?line=33'>34</a>\u001b[0m )\n",
      "\u001b[1;32m/home/giorgia/Documents/ekf_students.ipynb Cell 49\u001b[0m line \u001b[0;36m5\n\u001b[1;32m     <a href='vscode-notebook-cell:/home/giorgia/Documents/ekf_students.ipynb#X66sZmlsZQ%3D%3D?line=47'>48</a>\u001b[0m track_odom\u001b[39m.\u001b[39mappend(odom_pos)\n\u001b[1;32m     <a href='vscode-notebook-cell:/home/giorgia/Documents/ekf_students.ipynb#X66sZmlsZQ%3D%3D?line=49'>50</a>\u001b[0m \u001b[39mif\u001b[39;00m i \u001b[39m%\u001b[39m ekf_step \u001b[39m==\u001b[39m \u001b[39m0\u001b[39m \u001b[39mand\u001b[39;00m i \u001b[39m!=\u001b[39m \u001b[39m0\u001b[39m:  \u001b[39m# only update ekf at dt intervals\u001b[39;00m\n\u001b[1;32m     <a href='vscode-notebook-cell:/home/giorgia/Documents/ekf_students.ipynb#X66sZmlsZQ%3D%3D?line=50'>51</a>\u001b[0m     \u001b[39m# run the prediction step of the EKF\u001b[39;00m\n\u001b[0;32m---> <a href='vscode-notebook-cell:/home/giorgia/Documents/ekf_students.ipynb#X66sZmlsZQ%3D%3D?line=51'>52</a>\u001b[0m     u \u001b[39m=\u001b[39m get_odometry_input(odom_pos, odom_pos_prev)\n\u001b[1;32m     <a href='vscode-notebook-cell:/home/giorgia/Documents/ekf_students.ipynb#X66sZmlsZQ%3D%3D?line=52'>53</a>\u001b[0m     ekf\u001b[39m.\u001b[39mpredict(u\u001b[39m=\u001b[39mu)\n\u001b[1;32m     <a href='vscode-notebook-cell:/home/giorgia/Documents/ekf_students.ipynb#X66sZmlsZQ%3D%3D?line=53'>54</a>\u001b[0m     odom_pos_prev \u001b[39m=\u001b[39m odom_pos\u001b[39m.\u001b[39mcopy()\n",
      "\u001b[1;32m/home/giorgia/Documents/ekf_students.ipynb Cell 49\u001b[0m line \u001b[0;36m9\n\u001b[1;32m      <a href='vscode-notebook-cell:/home/giorgia/Documents/ekf_students.ipynb#X66sZmlsZQ%3D%3D?line=6'>7</a>\u001b[0m thetap \u001b[39m=\u001b[39m x_prev[\u001b[39m2\u001b[39m,\u001b[39m0\u001b[39m]\n\u001b[1;32m      <a href='vscode-notebook-cell:/home/giorgia/Documents/ekf_students.ipynb#X66sZmlsZQ%3D%3D?line=7'>8</a>\u001b[0m rot1 \u001b[39m=\u001b[39m atan2(yp\u001b[39m-\u001b[39my0, xp\u001b[39m-\u001b[39mx0) \u001b[39m-\u001b[39mtheta \n\u001b[0;32m----> <a href='vscode-notebook-cell:/home/giorgia/Documents/ekf_students.ipynb#X66sZmlsZQ%3D%3D?line=8'>9</a>\u001b[0m trasl \u001b[39m=\u001b[39m sqrt((xp\u001b[39m-\u001b[39;49mx0)\u001b[39m*\u001b[39;49m\u001b[39m*\u001b[39;49m\u001b[39m2\u001b[39;49m \u001b[39m+\u001b[39;49m (yp\u001b[39m-\u001b[39;49my0)\u001b[39m*\u001b[39;49m\u001b[39m*\u001b[39;49m\u001b[39m2\u001b[39;49m)\n\u001b[1;32m     <a href='vscode-notebook-cell:/home/giorgia/Documents/ekf_students.ipynb#X66sZmlsZQ%3D%3D?line=9'>10</a>\u001b[0m rot2 \u001b[39m=\u001b[39m thetap\u001b[39m-\u001b[39mrot1\u001b[39m-\u001b[39mtheta\n\u001b[1;32m     <a href='vscode-notebook-cell:/home/giorgia/Documents/ekf_students.ipynb#X66sZmlsZQ%3D%3D?line=10'>11</a>\u001b[0m \u001b[39mreturn\u001b[39;00m np\u001b[39m.\u001b[39marray([[rot1, trasl, rot2]])\u001b[39m.\u001b[39mT\n",
      "File \u001b[0;32m~/.local/lib/python3.10/site-packages/sympy/functions/elementary/miscellaneous.py:152\u001b[0m, in \u001b[0;36msqrt\u001b[0;34m(arg, evaluate)\u001b[0m\n\u001b[1;32m     68\u001b[0m \u001b[39m\u001b[39m\u001b[39m\"\"\"Returns the principal square root.\u001b[39;00m\n\u001b[1;32m     69\u001b[0m \n\u001b[1;32m     70\u001b[0m \u001b[39mParameters\u001b[39;00m\n\u001b[0;32m   (...)\u001b[0m\n\u001b[1;32m    149\u001b[0m \u001b[39m.. [2] https://en.wikipedia.org/wiki/Principal_value\u001b[39;00m\n\u001b[1;32m    150\u001b[0m \u001b[39m\"\"\"\u001b[39;00m\n\u001b[1;32m    151\u001b[0m \u001b[39m# arg = sympify(arg) is handled by Pow\u001b[39;00m\n\u001b[0;32m--> 152\u001b[0m \u001b[39mreturn\u001b[39;00m Pow(arg, S\u001b[39m.\u001b[39;49mHalf, evaluate\u001b[39m=\u001b[39;49mevaluate)\n",
      "File \u001b[0;32m~/.local/lib/python3.10/site-packages/sympy/core/cache.py:76\u001b[0m, in \u001b[0;36m__cacheit.<locals>.func_wrapper.<locals>.wrapper\u001b[0;34m(*args, **kwargs)\u001b[0m\n\u001b[1;32m     74\u001b[0m     \u001b[39mif\u001b[39;00m \u001b[39mnot\u001b[39;00m e\u001b[39m.\u001b[39margs \u001b[39mor\u001b[39;00m \u001b[39mnot\u001b[39;00m e\u001b[39m.\u001b[39margs[\u001b[39m0\u001b[39m]\u001b[39m.\u001b[39mstartswith(\u001b[39m'\u001b[39m\u001b[39munhashable type:\u001b[39m\u001b[39m'\u001b[39m):\n\u001b[1;32m     75\u001b[0m         \u001b[39mraise\u001b[39;00m\n\u001b[0;32m---> 76\u001b[0m     retval \u001b[39m=\u001b[39m func(\u001b[39m*\u001b[39;49margs, \u001b[39m*\u001b[39;49m\u001b[39m*\u001b[39;49mkwargs)\n\u001b[1;32m     77\u001b[0m \u001b[39mreturn\u001b[39;00m retval\n",
      "File \u001b[0;32m~/.local/lib/python3.10/site-packages/sympy/core/power.py:287\u001b[0m, in \u001b[0;36mPow.__new__\u001b[0;34m(cls, b, e, evaluate)\u001b[0m\n\u001b[1;32m    284\u001b[0m \u001b[39mif\u001b[39;00m evaluate \u001b[39mis\u001b[39;00m \u001b[39mNone\u001b[39;00m:\n\u001b[1;32m    285\u001b[0m     evaluate \u001b[39m=\u001b[39m global_parameters\u001b[39m.\u001b[39mevaluate\n\u001b[0;32m--> 287\u001b[0m b \u001b[39m=\u001b[39m _sympify(b)\n\u001b[1;32m    288\u001b[0m e \u001b[39m=\u001b[39m _sympify(e)\n\u001b[1;32m    290\u001b[0m \u001b[39m# XXX: This can be removed when non-Expr args are disallowed rather\u001b[39;00m\n\u001b[1;32m    291\u001b[0m \u001b[39m# than deprecated.\u001b[39;00m\n",
      "File \u001b[0;32m~/.local/lib/python3.10/site-packages/sympy/core/sympify.py:528\u001b[0m, in \u001b[0;36m_sympify\u001b[0;34m(a)\u001b[0m\n\u001b[1;32m    502\u001b[0m \u001b[39mdef\u001b[39;00m \u001b[39m_sympify\u001b[39m(a):\n\u001b[1;32m    503\u001b[0m \u001b[39m    \u001b[39m\u001b[39m\"\"\"\u001b[39;00m\n\u001b[1;32m    504\u001b[0m \u001b[39m    Short version of :func:`~.sympify` for internal usage for ``__add__`` and\u001b[39;00m\n\u001b[1;32m    505\u001b[0m \u001b[39m    ``__eq__`` methods where it is ok to allow some things (like Python\u001b[39;00m\n\u001b[0;32m   (...)\u001b[0m\n\u001b[1;32m    526\u001b[0m \n\u001b[1;32m    527\u001b[0m \u001b[39m    \"\"\"\u001b[39;00m\n\u001b[0;32m--> 528\u001b[0m     \u001b[39mreturn\u001b[39;00m sympify(a, strict\u001b[39m=\u001b[39;49m\u001b[39mTrue\u001b[39;49;00m)\n",
      "File \u001b[0;32m~/.local/lib/python3.10/site-packages/sympy/core/sympify.py:449\u001b[0m, in \u001b[0;36msympify\u001b[0;34m(a, locals, convert_xor, strict, rational, evaluate)\u001b[0m\n\u001b[1;32m    446\u001b[0m                 \u001b[39mcontinue\u001b[39;00m\n\u001b[1;32m    448\u001b[0m \u001b[39mif\u001b[39;00m strict:\n\u001b[0;32m--> 449\u001b[0m     \u001b[39mraise\u001b[39;00m SympifyError(a)\n\u001b[1;32m    451\u001b[0m \u001b[39mif\u001b[39;00m iterable(a):\n\u001b[1;32m    452\u001b[0m     \u001b[39mtry\u001b[39;00m:\n",
      "\u001b[0;31mSympifyError\u001b[0m: SympifyError: array([26.33784, 37.33784])"
     ]
    },
    {
     "data": {
      "image/png": "[encoded data removed]",
      "text/plain": [
       "<Figure size 900x400 with 2 Axes>"
      ]
     },
     "metadata": {},
     "output_type": "display_data"
    }
   ],
   "source": [
    "# set the seed to get the same results every time\n",
    "np.random.seed(seed)\n",
    "\n",
    "std_rot1 = 0.1\n",
    "std_trasl = 1.0\n",
    "std_rot2 = 5.0\n",
    "\n",
    "# Initialize the EKF\n",
    "ekf = RobotEKF(\n",
    "    dim_x=3,\n",
    "    dim_z=2,\n",
    "    dim_u=3,\n",
    "    eval_gux=eval_gux_odom,\n",
    "    eval_Gt=eval_Gt_odom,\n",
    "    eval_Vt=eval_Vt_odom,\n",
    "    eval_hx=eval_hx,\n",
    "    eval_Ht=eval_Ht,\n",
    ")\n",
    "ekf.mu = np.array([[2, 6, 0.3]]).T  # x, y, theta\n",
    "ekf.Sigma = np.diag([0.1, 0.1, 0.1])\n",
    "ekf.Mt = np.diag([std_rot1**2, std_trasl**2, std_rot2**2])\n",
    "ekf.Qt = np.diag([std_range**2, std_bearing**2])\n",
    "\n",
    "run_localization_odom(\n",
    "    ekf,\n",
    "    ekf_dt=ekf_dt,\n",
    "    landmarks=landmarks,\n",
    "    std_lin_vel=std_lin_vel,\n",
    "    std_ang_vel=std_ang_vel,\n",
    "    std_range=std_range,\n",
    "    std_bearing=std_bearing,\n",
    "    ellipse_step_s=2.0,\n",
    "    sim_length_s=sim_length_s,\n",
    ")"
   ]
  },
  {
   "cell_type": "code",
   "execution_count": null,
   "metadata": {},
   "outputs": [
    {
     "name": "stdout",
     "output_type": "stream",
     "text": [
      "hello\n"
     ]
    }
   ],
   "source": [
    "print(\"hello\")"
   ]
  }
 ],
 "metadata": {
  "kernelspec": {
   "display_name": "Python 3",
   "language": "python",
   "name": "python3"
  },
  "language_info": {
   "codemirror_mode": {
    "name": "ipython",
    "version": 3
   },
   "file_extension": ".py",
   "mimetype": "text/x-python",
   "name": "python",
   "nbconvert_exporter": "python",
   "pygments_lexer": "ipython3",
   "version": "3.10.12"
  }
 },
 "nbformat": 4,
 "nbformat_minor": 2
}
